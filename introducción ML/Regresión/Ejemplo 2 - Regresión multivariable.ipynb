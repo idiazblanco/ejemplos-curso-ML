{
 "cells": [
  {
   "cell_type": "markdown",
   "metadata": {},
   "source": [
    "# Regresión multivariable*\n",
    "*Ignacio Díaz Blanco, Universidad de Oviedo, 2023*\n",
    "\n",
    "\n",
    "Ejemplo básico de regresión multivariable utilizando el método `Ridge()` de `scikit-learn`\n"
   ]
  },
  {
   "cell_type": "code",
   "execution_count": 1,
   "metadata": {},
   "outputs": [],
   "source": [
    "import numpy as np\n",
    "import matplotlib.pyplot as plt\n",
    "import pandas as pd"
   ]
  },
  {
   "cell_type": "markdown",
   "metadata": {},
   "source": [
    "## Generación de datos de ejemplo\n",
    "\n",
    "Generamos datos de ejemplo de un modelo con tres variables independientes $x_1, x_2, x_3$, un término afín independiente $b$\n",
    "$$\n",
    "y = a_1 x_1 + a_2 x_2 + a_3 x_3 + b + \\epsilon\n",
    "$$\n",
    "al cual se le ha añadido ruido de distribución normal $\\epsilon$ que representa la incertidumbre en los datos (ej. ruidos en los sensores)"
   ]
  },
  {
   "cell_type": "code",
   "execution_count": 2,
   "metadata": {},
   "outputs": [
    {
     "name": "stdout",
     "output_type": "stream",
     "text": [
      "           x1        x2        x3         y\n",
      "0    0.019647 -0.415699  0.428810  2.697173\n",
      "1    2.138500 -0.519537  0.143356  5.042495\n",
      "2    0.939701  1.529857  0.343539  0.246968\n",
      "3    0.541124 -1.417183  0.161576  5.187783\n",
      "4   -0.800807 -0.146697 -0.140614 -0.812989\n",
      "..        ...       ...       ...       ...\n",
      "995  0.748771  1.660851 -1.253276 -5.667029\n",
      "996  0.016924 -2.324561 -1.894529 -0.382097\n",
      "997  0.397171  0.271002 -0.958689 -2.467138\n",
      "998 -1.305118  0.451393  0.553691 -0.570155\n",
      "999 -0.359201 -0.141573 -0.693880 -1.525344\n",
      "\n",
      "[1000 rows x 4 columns]\n"
     ]
    }
   ],
   "source": [
    "N = 1000\n",
    "\n",
    "x1 = np.random.randn(N)\n",
    "x2 = np.random.randn(N)\n",
    "x3 = np.random.randn(N)\n",
    "\n",
    "# ruido del sensor y\n",
    "epsilon = 0.2*np.random.randn(N)\n",
    "\n",
    "[a1, a2, a3, b] = [1.5, -2.1, 3.2, 0.7]\n",
    "\n",
    "X = np.column_stack((x1,x2,x3))\n",
    "y = a1*x1 + a2*x2 + a3*x3 + b + epsilon\n",
    "\n",
    "# visualizamos los datos en una tabla\n",
    "df = pd.DataFrame(np.column_stack((X,y)),columns=('x1','x2','x3','y'))\n",
    "print(df)"
   ]
  },
  {
   "cell_type": "markdown",
   "metadata": {},
   "source": [
    "## Aprendizaje del modelo utilizando scikit-learn"
   ]
  },
  {
   "cell_type": "code",
   "execution_count": 3,
   "metadata": {},
   "outputs": [
    {
     "name": "stdout",
     "output_type": "stream",
     "text": [
      "         coeficientes  =  [ 1.48550693 -2.09237408  3.19663321]\n",
      "término independiente  =  0.6858737173292081\n"
     ]
    }
   ],
   "source": [
    "from sklearn.linear_model import Ridge\n",
    "\n",
    "# creamos el modelo\n",
    "modelo = Ridge(alpha=0.0001)\n",
    "\n",
    "# ajustamos el modelo a los datos\n",
    "modelo.fit(X,y)\n",
    "\n",
    "# imprimimos los parámetros del modelo\n",
    "print(f'         coeficientes  =  {modelo.coef_}')\n",
    "print(f'término independiente  =  {modelo.intercept_}')"
   ]
  },
  {
   "cell_type": "markdown",
   "metadata": {},
   "source": [
    "los coeficientes y el término independiente se aproximan bastante bien a los reales"
   ]
  },
  {
   "cell_type": "markdown",
   "metadata": {},
   "source": [
    "### Inferencia del modelo con datos de test"
   ]
  },
  {
   "cell_type": "code",
   "execution_count": 4,
   "metadata": {},
   "outputs": [
    {
     "name": "stdout",
     "output_type": "stream",
     "text": [
      "      ytest     ypred     error\n",
      "0 -4.543798 -4.534011 -0.009787\n",
      "1  0.308893  0.291845  0.017048\n",
      "2 -4.490600 -4.485784 -0.004817\n",
      "3  6.419735  6.407524  0.012211\n",
      "4  2.192602  2.145539  0.047063\n",
      "5  0.807169  0.790072  0.017097\n",
      "6  2.973449  2.972412  0.001037\n",
      "7  3.510486  3.489372  0.021115\n",
      "8  3.261567  3.242875  0.018692\n",
      "9  1.465828  1.440853  0.024975\n"
     ]
    }
   ],
   "source": [
    "Ntest = 10\n",
    "\n",
    "# datos de test para las tres variables independientes (sensores)\n",
    "x1test = np.random.randn(Ntest)\n",
    "x2test = np.random.randn(Ntest)\n",
    "x3test = np.random.randn(Ntest)\n",
    "\n",
    "# valores que daría el modelo ideal\n",
    "ytest = a1*x1test + a2*x2test + a3*x3test + b\n",
    "\n",
    "# datos de entrada al modelo\n",
    "Xtest = np.column_stack((x1test,x2test,x3test))\n",
    "\n",
    "# predicción del modelo\n",
    "ypred = modelo.predict(Xtest)\n",
    "\n",
    "# diferencia entre el valor ideal y la predicción\n",
    "error = ytest - ypred\n",
    "\n",
    "# mostramos los datos en una tabla\n",
    "df = pd.DataFrame(np.column_stack((ytest,ypred,error)),columns=['ytest','ypred','error'])\n",
    "print(df)"
   ]
  },
  {
   "cell_type": "markdown",
   "metadata": {},
   "source": [
    "## Aprendizaje del modelo con la expresión matricial\n",
    "\n",
    "Estimamos el modelo utilizando la expresión\n",
    "\n",
    "$$\n",
    "\\hat {\\mathbf W} = (\\mathbf X^T \\mathbf X - \\lambda\\mathbf I)^{-1}\\mathbf X^T\\mathbf Y\n",
    "$$\n",
    "\n",
    "tomando la matriz de regresores los valores de $x$ con una columna extra de $1's$ que permite obtener el término independiente en el modelo \n",
    " \n",
    "$$\n",
    "\\mathbf X = \n",
    "\\left(\n",
    "\\begin{matrix}\n",
    "x^1_1 & x^1_2 & x^1_3 & 1 \\\\\n",
    "x^2_1 & x^2_2 & x^2_3 & 1 \\\\\n",
    "\\vdots\\\\\n",
    "x^n_1 & x^n_2 & x^n_3 & 1 \\\\\n",
    "\\end{matrix}\n",
    "\\right)\n",
    "\\qquad\n",
    "\\mathbf Y = \n",
    "\\left(\n",
    "\\begin{matrix}\n",
    "y^1 \\\\\n",
    "y^2 \\\\\n",
    "\\vdots \\\\\n",
    "y^n \\\\\n",
    "\\end{matrix}\n",
    "\\right)\n",
    "\\qquad \n",
    "{\\rm de\\; forma\\; que}\n",
    "\\qquad\n",
    "\\mathbf Y = \\mathbf X\\mathbf W\n",
    "\\qquad\n",
    "{\\rm donde}\n",
    "\\qquad\n",
    "\\mathbf W = \\left[a_1, a_2, a_3, b\\right]\n",
    "$$\n"
   ]
  },
  {
   "cell_type": "code",
   "execution_count": 5,
   "metadata": {},
   "outputs": [
    {
     "name": "stdout",
     "output_type": "stream",
     "text": [
      "valores estimados: \n",
      "coeficientes = [[ 1.48550693 -2.09237409  3.19663321]]\n",
      "término independiente = [0.68587365]\n"
     ]
    }
   ],
   "source": [
    "alpha = 0.0001\n",
    "X = np.column_stack((x1,x2,x3,np.ones(N)))\n",
    "Y = np.column_stack((y,))\n",
    "W = np.linalg.inv(X.T@X + alpha*np.eye(4))@X.T@Y\n",
    "\n",
    "# podemos obtener los coeficientes del modelo\n",
    "print('valores estimados: ')\n",
    "print(f'coeficientes = {W[:-1].T}')\n",
    "print(f'término independiente = {W[-1]}')"
   ]
  },
  {
   "cell_type": "markdown",
   "metadata": {},
   "source": [
    "### Inferencia del modelo con datos de test"
   ]
  },
  {
   "cell_type": "code",
   "execution_count": 6,
   "metadata": {},
   "outputs": [
    {
     "name": "stdout",
     "output_type": "stream",
     "text": [
      "      ytest     ypred     error\n",
      "0 -4.543798 -4.534011 -0.009787\n",
      "1  0.308893  0.291845  0.017048\n",
      "2 -4.490600 -4.485784 -0.004816\n",
      "3  6.419735  6.407524  0.012211\n",
      "4  2.192602  2.145539  0.047063\n",
      "5  0.807169  0.790072  0.017097\n",
      "6  2.973449  2.972412  0.001037\n",
      "7  3.510486  3.489372  0.021115\n",
      "8  3.261567  3.242875  0.018692\n",
      "9  1.465828  1.440853  0.024975\n"
     ]
    }
   ],
   "source": [
    "# datos de entrada al modelo\n",
    "Xtest = np.column_stack((x1test,x2test,x3test,np.ones(Ntest)))\n",
    "ypred = Xtest@W\n",
    "\n",
    "# diferencia entre el valor ideal y la predicción\n",
    "error = ytest - ypred.ravel()\n",
    "\n",
    "# mostramos los datos en una tabla\n",
    "df = pd.DataFrame(np.column_stack((ytest,ypred,error)),columns=['ytest','ypred','error'])\n",
    "print(df)"
   ]
  },
  {
   "cell_type": "markdown",
   "metadata": {},
   "source": [
    "sale exactamente igual.\n"
   ]
  },
  {
   "cell_type": "markdown",
   "metadata": {},
   "source": [
    "<p class=\"\"><a href=\"http://creativecommons.org/licenses/by-sa/4.0/\"><img src=\"https://i.creativecommons.org/l/by-sa/4.0/88x31.png\" style=\"border-width:0\"></a><br><span>Ejemplo de Regresión multivariable</span> by <a href=\"http://isa.uniovi.es/~idiaz\">Ignacio Díaz Blanco</a> is licensed under a <a href=\"http://creativecommons.org/licenses/by-sa/4.0/\">Creative Commons Reconocimiento-CompartirIgual 4.0 Internacional License</a>.</p>"
   ]
  }
 ],
 "metadata": {
  "kernelspec": {
   "display_name": "curso_ml",
   "language": "python",
   "name": "python3"
  },
  "language_info": {
   "codemirror_mode": {
    "name": "ipython",
    "version": 3
   },
   "file_extension": ".py",
   "mimetype": "text/x-python",
   "name": "python",
   "nbconvert_exporter": "python",
   "pygments_lexer": "ipython3",
   "version": "3.11.5"
  },
  "orig_nbformat": 4
 },
 "nbformat": 4,
 "nbformat_minor": 2
}
