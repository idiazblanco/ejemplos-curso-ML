{
 "cells": [
  {
   "cell_type": "markdown",
   "metadata": {},
   "source": [
    "# Regresión multivariable*\n",
    "*Ignacio Díaz Blanco, Universidad de Oviedo, 2023*\n",
    "\n",
    "\n",
    "Ejemplo básico de regresión multivariable utilizando el método `Ridge()` de `scikit-learn`\n"
   ]
  },
  {
   "cell_type": "code",
   "execution_count": 1,
   "metadata": {},
   "outputs": [],
   "source": [
    "import numpy as np\n",
    "import matplotlib.pyplot as plt\n",
    "import pandas as pd"
   ]
  },
  {
   "cell_type": "markdown",
   "metadata": {},
   "source": [
    "### Generación de datos de ejemplo\n",
    "\n",
    "Generamos datos de ejemplo de un modelo con tres variables independientes $x_1, x_2, x_3$, un término afín independiente $b$\n",
    "$$\n",
    "y = a_1 x_1 + a_2 x_2 + a_3 x_3 + b + \\epsilon\n",
    "$$\n",
    "al cual se le ha añadido ruido de distribución normal $\\epsilon$ que representa la incertidumbre en los datos (ej. ruidos en los sensores)"
   ]
  },
  {
   "cell_type": "code",
   "execution_count": 2,
   "metadata": {},
   "outputs": [
    {
     "name": "stdout",
     "output_type": "stream",
     "text": [
      "           x1        x2        x3         y\n",
      "0   -1.928360  0.476789 -0.454038 -4.752045\n",
      "1    0.123474  0.171010 -0.114277 -0.098481\n",
      "2    1.309195 -0.079462 -0.430700  1.022957\n",
      "3   -1.202699 -0.577795  0.012150  0.095312\n",
      "4   -1.725458  0.860119 -0.651133 -5.525536\n",
      "..        ...       ...       ...       ...\n",
      "995  0.991364  1.100156  0.586287  2.129023\n",
      "996 -0.365740 -1.100810  0.818424  5.222305\n",
      "997 -0.425985 -0.062838 -2.133374 -6.947235\n",
      "998 -0.208539  0.131205 -0.407686 -1.294868\n",
      "999  0.148687 -0.826139 -0.405152  1.557843\n",
      "\n",
      "[1000 rows x 4 columns]\n"
     ]
    }
   ],
   "source": [
    "N = 1000\n",
    "\n",
    "x1 = np.random.randn(N)\n",
    "x2 = np.random.randn(N)\n",
    "x3 = np.random.randn(N)\n",
    "\n",
    "# ruido del sensor y\n",
    "epsilon = 0.2*np.random.randn(N)\n",
    "\n",
    "[a1, a2, a3, b] = [1.5, -2.1, 3.2, 0.7]\n",
    "\n",
    "X = np.column_stack((x1,x2,x3))\n",
    "y = a1*x1 + a2*x2 + a3*x3 + b + epsilon\n",
    "\n",
    "# visualizamos los datos en una tabla\n",
    "df = pd.DataFrame(np.column_stack((X,y)),columns=('x1','x2','x3','y'))\n",
    "print(df)"
   ]
  },
  {
   "cell_type": "markdown",
   "metadata": {},
   "source": [
    "### Entrenamiento de un modelo lineal (Ridge regression)"
   ]
  },
  {
   "cell_type": "code",
   "execution_count": 3,
   "metadata": {},
   "outputs": [
    {
     "name": "stdout",
     "output_type": "stream",
     "text": [
      "         coeficientes  =  [ 1.51075088 -2.10102356  3.19883125]\n",
      "término independiente  =  0.7035606638563388\n"
     ]
    }
   ],
   "source": [
    "from sklearn.linear_model import Ridge\n",
    "\n",
    "# creamos el modelo\n",
    "modelo = Ridge(alpha=0.0001)\n",
    "\n",
    "# ajustamos el modelo a los datos\n",
    "modelo.fit(X,y)\n",
    "\n",
    "# imprimimos los parámetros del modelo\n",
    "print(f'         coeficientes  =  {modelo.coef_}')\n",
    "print(f'término independiente  =  {modelo.intercept_}')"
   ]
  },
  {
   "cell_type": "markdown",
   "metadata": {},
   "source": [
    "los coeficientes y el término independiente se aproximan bastante bien a los reales"
   ]
  },
  {
   "cell_type": "markdown",
   "metadata": {},
   "source": [
    "### Inferencia del modelo y validación con los datos reales"
   ]
  },
  {
   "cell_type": "code",
   "execution_count": 4,
   "metadata": {},
   "outputs": [
    {
     "name": "stdout",
     "output_type": "stream",
     "text": [
      "       ytest      ypred     error\n",
      "0  -3.514107  -3.503369 -0.010738\n",
      "1   4.400954   4.418140 -0.017186\n",
      "2  -2.430481  -2.429292 -0.001188\n",
      "3  -0.464476  -0.469826  0.005350\n",
      "4  12.859777  12.882714 -0.022936\n",
      "5   2.651422   2.659778 -0.008356\n",
      "6  -2.526897  -2.516653 -0.010244\n",
      "7   4.526007   4.517918  0.008089\n",
      "8  -3.650731  -3.660199  0.009468\n",
      "9  -3.320770  -3.325019  0.004249\n"
     ]
    }
   ],
   "source": [
    "N = 10\n",
    "\n",
    "# datos de test para las tres variables independientes (sensores)\n",
    "x1test = np.random.randn(N)\n",
    "x2test = np.random.randn(N)\n",
    "x3test = np.random.randn(N)\n",
    "\n",
    "# valores que daría el modelo ideal\n",
    "ytest = a1*x1test + a2*x2test + a3*x3test + b\n",
    "\n",
    "# datos de entrada al modelo\n",
    "Xtest = np.column_stack((x1test,x2test,x3test))\n",
    "\n",
    "# predicción del modelo\n",
    "ypred = modelo.predict(Xtest)\n",
    "\n",
    "# diferencia entre el valor ideal y la predicción\n",
    "error = ytest - ypred\n",
    "\n",
    "# mostramos los datos en una tabla\n",
    "df = pd.DataFrame(np.column_stack((ytest,ypred,error)),columns=['ytest','ypred','error'])\n",
    "print(df)"
   ]
  }
 ],
 "metadata": {
  "kernelspec": {
   "display_name": "curso_ml",
   "language": "python",
   "name": "python3"
  },
  "language_info": {
   "codemirror_mode": {
    "name": "ipython",
    "version": 3
   },
   "file_extension": ".py",
   "mimetype": "text/x-python",
   "name": "python",
   "nbconvert_exporter": "python",
   "pygments_lexer": "ipython3",
   "version": "3.11.5"
  },
  "orig_nbformat": 4
 },
 "nbformat": 4,
 "nbformat_minor": 2
}
