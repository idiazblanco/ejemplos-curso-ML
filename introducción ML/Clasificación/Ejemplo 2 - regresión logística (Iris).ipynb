{
 "cells": [
  {
   "cell_type": "markdown",
   "metadata": {},
   "source": [
    "# Clasificación Regresión Logística (Iris dataset)\n",
    "\n",
    "Ignacio Díaz Blanco. Universidad de Oviedo, 2023\n",
    "\n",
    "Ejemplo elemental de regresión logística con el conjunto de datos Iris:\n",
    "\n",
    "https://es.wikipedia.org/wiki/Conjunto_de_datos_flor_iris\n",
    "\n"
   ]
  },
  {
   "cell_type": "code",
   "execution_count": 1,
   "metadata": {},
   "outputs": [
    {
     "name": "stdout",
     "output_type": "stream",
     "text": [
      "Clase==1 (real) vs. Probabilidad de clase==1 (estimación)\n",
      "\n",
      "     clase==1  probabilidad(clase==1)\n",
      "0         0.0                0.010178\n",
      "1         0.0                0.023535\n",
      "2         0.0                0.015786\n",
      "3         0.0                0.031029\n",
      "4         0.0                0.009377\n",
      "..        ...                     ...\n",
      "145       1.0                0.999531\n",
      "146       1.0                0.999460\n",
      "147       1.0                0.999334\n",
      "148       1.0                0.999621\n",
      "149       1.0                0.999200\n",
      "\n",
      "[150 rows x 2 columns]\n"
     ]
    }
   ],
   "source": [
    "import numpy as np\n",
    "import matplotlib.pyplot as plt\n",
    "\n",
    "\n",
    "# Definición de la función sigmoidal\n",
    "def sigmoid(x):\n",
    "    return 1/(1+np.exp(-x))\n",
    "\n",
    "# Clase para iteración de regresión logística\n",
    "class LogisticRegression():\n",
    "    def fit(self, X, y, n_iter=4000, lr=0.01):\n",
    "        self.w = np.random.rand(X.shape[1])\n",
    "        for _ in range(n_iter):\n",
    "            self.w -= lr * (self.predict(X) - y).dot(X)\n",
    "    def predict(self, X):\n",
    "        return sigmoid(X.dot(self.w))\n",
    "\n",
    "\n",
    "# Instanciamos nuestra clase LogisticTegression\n",
    "a = LogisticRegression()\n",
    "\n",
    "\n",
    "# Cargamos los datos de iris (4 variables)\n",
    "from sklearn.datasets import load_iris\n",
    "X, y = load_iris(return_X_y=True)\n",
    "\n",
    "# problema binario: queremos diferenciar clase \"setosa\" del resto (\"virginica\", \"versicolor\")\n",
    "y = [0 if clase==0 else 1 for clase in y]\n",
    "\n",
    "# ejecutamos el método fit para entrenar\n",
    "a.fit(X,y,lr=0.0001)\n",
    "\n",
    "\n",
    "# ejecutamos el método predict()\n",
    "yestim = a.predict(X)\n",
    "\n",
    "import pandas as pd\n",
    "print('Clase==1 (real) vs. Probabilidad de clase==1 (estimación)')\n",
    "print('')\n",
    "print(pd.DataFrame(np.column_stack((y,yestim)),columns = ['clase==1','probabilidad(clase==1)']))\n"
   ]
  }
 ],
 "metadata": {
  "kernelspec": {
   "display_name": "curso_ml",
   "language": "python",
   "name": "python3"
  },
  "language_info": {
   "codemirror_mode": {
    "name": "ipython",
    "version": 3
   },
   "file_extension": ".py",
   "mimetype": "text/x-python",
   "name": "python",
   "nbconvert_exporter": "python",
   "pygments_lexer": "ipython3",
   "version": "3.11.5"
  }
 },
 "nbformat": 4,
 "nbformat_minor": 2
}
